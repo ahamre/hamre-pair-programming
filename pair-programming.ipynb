{
 "cells": [
  {
   "cell_type": "code",
   "execution_count": 1,
   "id": "dfa36051-9f5b-49e5-91b4-1424b50747d1",
   "metadata": {},
   "outputs": [
    {
     "name": "stdin",
     "output_type": "stream",
     "text": [
      "How many feet? 100\n",
      "How many inches? 3\n"
     ]
    }
   ],
   "source": [
    "feet = int(input(\"How many feet?\"))\n",
    "inches = int(input(\"How many inches?\"))"
   ]
  },
  {
   "cell_type": "code",
   "execution_count": 2,
   "id": "f1c5afb9-688b-4994-9cf3-b7b5e486a77c",
   "metadata": {},
   "outputs": [],
   "source": [
    "length = (feet*12)+inches\n",
    "centimeters = length * 2.54\n",
    "meters = centimeters//100"
   ]
  },
  {
   "cell_type": "code",
   "execution_count": 3,
   "id": "78bee0cd-0697-4e2a-92af-7194ba4c7b9c",
   "metadata": {},
   "outputs": [
    {
     "name": "stdout",
     "output_type": "stream",
     "text": [
      "30.0\n"
     ]
    }
   ],
   "source": [
    "def imperial_to_metric_length(length):\n",
    "    centimeters = length * 2.54\n",
    "    meters = centimeters//100\n",
    "    return meters\n",
    "print(meters)"
   ]
  },
  {
   "cell_type": "code",
   "execution_count": null,
   "id": "50453e93-6331-4c9f-9db8-7f5b3cd6d018",
   "metadata": {},
   "outputs": [],
   "source": []
  },
  {
   "cell_type": "code",
   "execution_count": null,
   "id": "3348ef43-f875-429f-9261-bee503d83611",
   "metadata": {},
   "outputs": [],
   "source": []
  }
 ],
 "metadata": {
  "kernelspec": {
   "display_name": "Python 3 (ipykernel)",
   "language": "python",
   "name": "python3"
  },
  "language_info": {
   "codemirror_mode": {
    "name": "ipython",
    "version": 3
   },
   "file_extension": ".py",
   "mimetype": "text/x-python",
   "name": "python",
   "nbconvert_exporter": "python",
   "pygments_lexer": "ipython3",
   "version": "3.9.13"
  }
 },
 "nbformat": 4,
 "nbformat_minor": 5
}
