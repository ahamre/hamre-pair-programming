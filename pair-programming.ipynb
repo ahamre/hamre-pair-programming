{
 "cells": [
  {
   "cell_type": "code",
   "execution_count": 2,
   "id": "dfa36051-9f5b-49e5-91b4-1424b50747d1",
   "metadata": {},
   "outputs": [
    {
     "name": "stdin",
     "output_type": "stream",
     "text": [
      "How many feet? 6\n",
      "How many inches? 6\n"
     ]
    }
   ],
   "source": [
    "# Prompt user for inputs of feet and inches\n",
    "feet = int(input(\"How many feet?\"))\n",
    "inches = int(input(\"How many inches?\"))"
   ]
  },
  {
   "cell_type": "code",
   "execution_count": 27,
   "id": "78bee0cd-0697-4e2a-92af-7194ba4c7b9c",
   "metadata": {},
   "outputs": [],
   "source": [
    "# Function imperial_to_metric_length takes feet and inches and returns the length in metric units\n",
    "def imperial_to_metric_length(feet, inches=0):\n",
    "    # Make sure that both feet and inches are the same sign - not one positive and one negative.\n",
    "    assert (feet <= 0 and inches <= 0) or (feet >= 0 and inches >= 0), \"Feet and Inches must both be positive or both be negative\"\n",
    "    # Convert inches into centimeters\n",
    "    centimeters = (inches * 2.54) / 100\n",
    "    # Convert feet into meters\n",
    "    meters = feet * 0.3048\n",
    "    # Return centimeters plus meters\n",
    "    return round(meters + centimeters, 4)"
   ]
  },
  {
   "cell_type": "code",
   "execution_count": 20,
   "id": "3348ef43-f875-429f-9261-bee503d83611",
   "metadata": {},
   "outputs": [],
   "source": [
    "# Tests, make sure that the conversion of feet, conversion of inches, and the summation of the two function correctly\n",
    "def test_imperial_to_metric():\n",
    "    assert imperial_to_metric_length(6) == 1.8288, \"failed to convert feet\"\n",
    "    assert imperial_to_metric_length(0, 12) == 0.3048, \"failed to convert inches\"\n",
    "    assert imperial_to_metric_length(6, 6) == 1.9812, \"failed to add meters and centimeters\""
   ]
  },
  {
   "cell_type": "code",
   "execution_count": 28,
   "id": "10327be1-d0fc-4457-8f5c-eb0c71308859",
   "metadata": {},
   "outputs": [],
   "source": [
    "test_imperial_to_metric()"
   ]
  },
  {
   "cell_type": "code",
   "execution_count": null,
   "id": "070c1593-f969-4fe9-b25b-0c0041942d37",
   "metadata": {},
   "outputs": [],
   "source": []
  }
 ],
 "metadata": {
  "kernelspec": {
   "display_name": "Python 3 (ipykernel)",
   "language": "python",
   "name": "python3"
  },
  "language_info": {
   "codemirror_mode": {
    "name": "ipython",
    "version": 3
   },
   "file_extension": ".py",
   "mimetype": "text/x-python",
   "name": "python",
   "nbconvert_exporter": "python",
   "pygments_lexer": "ipython3",
   "version": "3.9.13"
  }
 },
 "nbformat": 4,
 "nbformat_minor": 5
}
